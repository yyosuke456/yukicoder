{
  "nbformat": 4,
  "nbformat_minor": 0,
  "metadata": {
    "colab": {
      "name": "yukicoder.ipynb",
      "provenance": [],
      "authorship_tag": "ABX9TyPp2f+u421nPWMlgJ+01l3S",
      "include_colab_link": true
    },
    "kernelspec": {
      "name": "python3",
      "display_name": "Python 3"
    },
    "language_info": {
      "name": "python"
    }
  },
  "cells": [
    {
      "cell_type": "markdown",
      "metadata": {
        "id": "view-in-github",
        "colab_type": "text"
      },
      "source": [
        "<a href=\"https://colab.research.google.com/github/yyosuke456/yukicoder/blob/master/yukicoder.ipynb\" target=\"_parent\"><img src=\"https://colab.research.google.com/assets/colab-badge.svg\" alt=\"Open In Colab\"/></a>"
      ]
    },
    {
      "cell_type": "code",
      "metadata": {
        "colab": {
          "base_uri": "https://localhost:8080/"
        },
        "id": "oSEy_1lSI695",
        "outputId": "bee0771f-9d56-4070-9f03-18203e1ab332"
      },
      "source": [
        "# 標準入力から一行分を読み出し、文字列として格納する。\n",
        "first = input()\n",
        "\n",
        "# 読み込んだ文字列をスペースで分割する\n",
        "split_first = first.split()\n",
        "\n",
        "# それぞれをint型に変換する\n",
        "A = int(split_first[0])\n",
        "B = int(split_first[1])\n",
        "\n",
        "# 慣れてくると この一行でよい\n",
        "# A, B = map(int, input().split()) \n",
        "\n",
        "# 参考: リストを読む際はlist()で覆ってやらないといけない\n",
        "# L = list(map(int, input().split()))\n",
        "\n",
        "#2行目を読み込む\n",
        "S = input()\n",
        "\n",
        "# 標準出力に書き出す。\n",
        "# カンマで区切るとスペースで分割してくれるので楽です。\n",
        "print(A + B, S)"
      ],
      "execution_count": null,
      "outputs": [
        {
          "output_type": "stream",
          "text": [
            "1 2\n",
            "2\n",
            "3 2\n"
          ],
          "name": "stdout"
        }
      ]
    },
    {
      "cell_type": "markdown",
      "metadata": {
        "id": "H47H4UZoX6Wb"
      },
      "source": [
        "1歩でぴったりaセンチメートル歩ける。\n",
        "bセンチメートルの区間を歩くのに最小で何歩歩く？\n",
        "なお、区間はオーバーしても良い。\n",
        "https://yukicoder.me/problems/43"
      ]
    },
    {
      "cell_type": "code",
      "metadata": {
        "id": "FK2TICDmLD8C",
        "colab": {
          "base_uri": "https://localhost:8080/"
        },
        "outputId": "5aa0b3e3-aecf-4426-b1cc-11d9a45d49fa"
      },
      "source": [
        "first = input()\n",
        "split_first = first.split()\n",
        "a = int(split_first[0])\n",
        "b = int(split_first[1])\n",
        "steps = -(-b // a) #剰余を切り上げ\n",
        "print(steps)"
      ],
      "execution_count": 2,
      "outputs": [
        {
          "output_type": "stream",
          "text": [
            "10 100\n",
            "10\n"
          ],
          "name": "stdout"
        }
      ]
    },
    {
      "cell_type": "markdown",
      "metadata": {
        "id": "o7DmU1ikdNQk"
      },
      "source": [
        "ステア君は階段を上るのが大好きです。今日も近所にあるお寺のお気に入りの階段を上っています。\n",
        " 段目に上がったとき、ふとステア君は自分の家でいうと何階に相当する高さに居るのかが気になりました。\n",
        "ステア君の家の一階層分に相当する段数  が与えられるので、ステア君が今何階にいるのか計算して下さい。\n",
        "https://yukicoder.me/problems/no/388"
      ]
    },
    {
      "cell_type": "code",
      "metadata": {
        "colab": {
          "base_uri": "https://localhost:8080/"
        },
        "id": "FiRSsVk0dMjI",
        "outputId": "fc58e7a1-3bcb-4378-f794-89a77bac497a"
      },
      "source": [
        "first = input()\n",
        "split_first = first.split()\n",
        "s = int(split_first[0])\n",
        "f = int(split_first[1])\n",
        "print(s // f + 1)"
      ],
      "execution_count": 2,
      "outputs": [
        {
          "output_type": "stream",
          "text": [
            "39 10\n",
            "4\n"
          ],
          "name": "stdout"
        }
      ]
    },
    {
      "cell_type": "markdown",
      "metadata": {
        "id": "dsAIMlsaPtsz"
      },
      "source": [
        "https://yukicoder.me/problems/699\n",
        "\n",
        "自分と相手がじゃんけんをする。\n",
        "じゃんけんの結果を標準出力に出力してください。\n",
        "結果は、自分が勝ったら「Won」、自分が負けたら「Lost」、引き分けなら「Drew」を出力してください。\n",
        "ぐー, ちょき, ぱーをそれぞれ 0, 1, 2とし、１つ目に自分のが２つ目に相手のが与えられます。\n"
      ]
    },
    {
      "cell_type": "code",
      "metadata": {
        "colab": {
          "base_uri": "https://localhost:8080/"
        },
        "id": "CTZtMKTPPtbl",
        "outputId": "a9952829-7975-4bec-cfe0-77c46129249e"
      },
      "source": [
        "first = input()\n",
        "split_first = first.split()\n",
        "me = int(split_first[0])\n",
        "you = int(split_first[1])\n",
        "if me == you:\n",
        "  print(\"Drew\")\n",
        "elif me == 0:\n",
        "  if you == 1:\n",
        "    print(\"Won\")\n",
        "  else:\n",
        "    print(\"Lost\")\n",
        "elif me == 1:\n",
        "  if you == 2:\n",
        "    print(\"Won\")\n",
        "  else:\n",
        "    print(\"Lost\")\n",
        "else:\n",
        "  if you == 1:\n",
        "    print(\"Won\")\n",
        "  else:\n",
        "    print(\"Lost\")"
      ],
      "execution_count": 3,
      "outputs": [
        {
          "output_type": "stream",
          "text": [
            "2 1\n",
            "Won\n"
          ],
          "name": "stdout"
        }
      ]
    }
  ]
}