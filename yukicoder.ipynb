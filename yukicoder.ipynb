{
  "nbformat": 4,
  "nbformat_minor": 0,
  "metadata": {
    "colab": {
      "name": "yukicoder.ipynb",
      "provenance": [],
      "authorship_tag": "ABX9TyPoZ3QEkRORQBbszQBdO3RE",
      "include_colab_link": true
    },
    "kernelspec": {
      "name": "python3",
      "display_name": "Python 3"
    },
    "language_info": {
      "name": "python"
    }
  },
  "cells": [
    {
      "cell_type": "markdown",
      "metadata": {
        "id": "view-in-github",
        "colab_type": "text"
      },
      "source": [
        "<a href=\"https://colab.research.google.com/github/yyosuke456/yukicoder/blob/master/yukicoder.ipynb\" target=\"_parent\"><img src=\"https://colab.research.google.com/assets/colab-badge.svg\" alt=\"Open In Colab\"/></a>"
      ]
    },
    {
      "cell_type": "code",
      "metadata": {
        "colab": {
          "base_uri": "https://localhost:8080/"
        },
        "id": "oSEy_1lSI695",
        "outputId": "bee0771f-9d56-4070-9f03-18203e1ab332"
      },
      "source": [
        "# 標準入力から一行分を読み出し、文字列として格納する。\n",
        "first = input()\n",
        "\n",
        "# 読み込んだ文字列をスペースで分割する\n",
        "split_first = first.split()\n",
        "\n",
        "# それぞれをint型に変換する\n",
        "A = int(split_first[0])\n",
        "B = int(split_first[1])\n",
        "\n",
        "# 慣れてくると この一行でよい\n",
        "# A, B = map(int, input().split()) \n",
        "\n",
        "# 参考: リストを読む際はlist()で覆ってやらないといけない\n",
        "# L = list(map(int, input().split()))\n",
        "\n",
        "#2行目を読み込む\n",
        "S = input()\n",
        "\n",
        "# 標準出力に書き出す。\n",
        "# カンマで区切るとスペースで分割してくれるので楽です。\n",
        "print(A + B, S)"
      ],
      "execution_count": null,
      "outputs": [
        {
          "output_type": "stream",
          "text": [
            "1 2\n",
            "2\n",
            "3 2\n"
          ],
          "name": "stdout"
        }
      ]
    },
    {
      "cell_type": "markdown",
      "metadata": {
        "id": "H47H4UZoX6Wb"
      },
      "source": [
        "1歩でぴったりaセンチメートル歩ける。\n",
        "bセンチメートルの区間を歩くのに最小で何歩歩く？\n",
        "なお、区間はオーバーしても良い。\n",
        "https://yukicoder.me/problems/43"
      ]
    },
    {
      "cell_type": "code",
      "metadata": {
        "id": "FK2TICDmLD8C",
        "colab": {
          "base_uri": "https://localhost:8080/"
        },
        "outputId": "5aa0b3e3-aecf-4426-b1cc-11d9a45d49fa"
      },
      "source": [
        "first = input()\n",
        "split_first = first.split()\n",
        "a = int(split_first[0])\n",
        "b = int(split_first[1])\n",
        "steps = -(-b // a) #剰余を切り上げ\n",
        "print(steps)"
      ],
      "execution_count": null,
      "outputs": [
        {
          "output_type": "stream",
          "text": [
            "10 100\n",
            "10\n"
          ],
          "name": "stdout"
        }
      ]
    },
    {
      "cell_type": "markdown",
      "metadata": {
        "id": "o7DmU1ikdNQk"
      },
      "source": [
        "ステア君は階段を上るのが大好きです。今日も近所にあるお寺のお気に入りの階段を上っています。\n",
        " 段目に上がったとき、ふとステア君は自分の家でいうと何階に相当する高さに居るのかが気になりました。\n",
        "ステア君の家の一階層分に相当する段数  が与えられるので、ステア君が今何階にいるのか計算して下さい。\n",
        "https://yukicoder.me/problems/no/388"
      ]
    },
    {
      "cell_type": "code",
      "metadata": {
        "colab": {
          "base_uri": "https://localhost:8080/"
        },
        "id": "FiRSsVk0dMjI",
        "outputId": "fc58e7a1-3bcb-4378-f794-89a77bac497a"
      },
      "source": [
        "first = input()\n",
        "split_first = first.split()\n",
        "s = int(split_first[0])\n",
        "f = int(split_first[1])\n",
        "print(s // f + 1)"
      ],
      "execution_count": null,
      "outputs": [
        {
          "output_type": "stream",
          "text": [
            "39 10\n",
            "4\n"
          ],
          "name": "stdout"
        }
      ]
    },
    {
      "cell_type": "markdown",
      "metadata": {
        "id": "dsAIMlsaPtsz"
      },
      "source": [
        "https://yukicoder.me/problems/699\n",
        "\n",
        "自分と相手がじゃんけんをする。\n",
        "じゃんけんの結果を標準出力に出力してください。\n",
        "結果は、自分が勝ったら「Won」、自分が負けたら「Lost」、引き分けなら「Drew」を出力してください。\n",
        "ぐー, ちょき, ぱーをそれぞれ 0, 1, 2とし、１つ目に自分のが２つ目に相手のが与えられます。\n"
      ]
    },
    {
      "cell_type": "code",
      "metadata": {
        "colab": {
          "base_uri": "https://localhost:8080/"
        },
        "id": "CTZtMKTPPtbl",
        "outputId": "a9952829-7975-4bec-cfe0-77c46129249e"
      },
      "source": [
        "first = input()\n",
        "split_first = first.split()\n",
        "me = int(split_first[0])\n",
        "you = int(split_first[1])\n",
        "if me == you:\n",
        "  print(\"Drew\")\n",
        "elif me == 0:\n",
        "  if you == 1:\n",
        "    print(\"Won\")\n",
        "  else:\n",
        "    print(\"Lost\")\n",
        "elif me == 1:\n",
        "  if you == 2:\n",
        "    print(\"Won\")\n",
        "  else:\n",
        "    print(\"Lost\")\n",
        "else:\n",
        "  if you == 1:\n",
        "    print(\"Won\")\n",
        "  else:\n",
        "    print(\"Lost\")"
      ],
      "execution_count": null,
      "outputs": [
        {
          "output_type": "stream",
          "text": [
            "2 1\n",
            "Won\n"
          ],
          "name": "stdout"
        }
      ]
    },
    {
      "cell_type": "markdown",
      "metadata": {
        "id": "nzyyOR8ExYpF"
      },
      "source": [
        "https://yukicoder.me/problems/560\n",
        "\n",
        "A以上B以下の整数のうち、3の倍数および3の付く数を、小さい順に出力してください。\n",
        "\n",
        "なお、「3の付く数」とは、10進数表記にした時、少なくとも1つの桁が3であるような数のことです。\n",
        "\n",
        "入力\n",
        "A B\n",
        "入力はすべて整数で与えられる。\n"
      ]
    },
    {
      "cell_type": "code",
      "metadata": {
        "colab": {
          "base_uri": "https://localhost:8080/"
        },
        "id": "NJBlYYxfxhzQ",
        "outputId": "4bfc8abf-22af-4be4-96fc-005b362b0b1d"
      },
      "source": [
        "first = input()\n",
        "split_first = first.split()\n",
        "a = int(split_first[0])\n",
        "b = int(split_first[1])\n",
        "for i in range(a, b + 1):\n",
        "  if i % 3 == 0 or '3' in str(i):\n",
        "    print(i)"
      ],
      "execution_count": null,
      "outputs": [
        {
          "output_type": "stream",
          "text": [
            "1700603696 1700603714\n",
            "1700603696\n",
            "1700603697\n",
            "1700603698\n",
            "1700603699\n",
            "1700603700\n",
            "1700603701\n",
            "1700603702\n",
            "1700603703\n",
            "1700603704\n",
            "1700603705\n",
            "1700603706\n",
            "1700603707\n",
            "1700603708\n",
            "1700603709\n",
            "1700603710\n",
            "1700603711\n",
            "1700603712\n",
            "1700603713\n",
            "1700603714\n"
          ],
          "name": "stdout"
        }
      ]
    },
    {
      "cell_type": "code",
      "metadata": {
        "id": "-dZmor7keg_U",
        "colab": {
          "base_uri": "https://localhost:8080/"
        },
        "outputId": "fd03b95e-05a7-4bf4-8e2e-2f887fe929b2"
      },
      "source": [
        "list = range(0, 5)\n",
        "print(list[3])"
      ],
      "execution_count": null,
      "outputs": [
        {
          "output_type": "stream",
          "text": [
            "3\n"
          ],
          "name": "stdout"
        }
      ]
    },
    {
      "cell_type": "markdown",
      "metadata": {
        "id": "QnvvQZCXDDWH"
      },
      "source": [
        "https://yukicoder.me/problems/339\n",
        "Zeldaは、昨日PCにパスワードを設定した。\n",
        "\n",
        "今日、PCを起動したが、昨日入力したパスワードでは入れない事に気づいた。\n",
        "よくよく考えてみると、Caps Lock機能がオンのまま気づかずに入力してしまったようだ。\n",
        "*として隠されて表示されるため、入力中には気づかなかったらしい。\n",
        "\n",
        "パスワードは、大文字・小文字の半角アルファベット52種類のみ使用する。\n",
        "Caps Lockは入力するアルファベットが、小文字の入力なら大文字に、大文字の入力なら小文字として入力される機能である。\n",
        "\n",
        "昨日入力したはずのパスワードの文字列が与えられるので\n",
        "誤って設定された「現在の」パスワードを求めてください。"
      ]
    },
    {
      "cell_type": "code",
      "metadata": {
        "colab": {
          "base_uri": "https://localhost:8080/"
        },
        "id": "5RgcQxsAECsL",
        "outputId": "ca281b21-c42d-4123-c5a6-72277fc59673"
      },
      "source": [
        "first = input()\n",
        "split_first = first.split()\n",
        "userInputPass = split_first[0]\n",
        "print(userInputPass.swapcase())"
      ],
      "execution_count": null,
      "outputs": [
        {
          "output_type": "stream",
          "text": [
            "CapsLock\n",
            "cAPSlOCK\n"
          ],
          "name": "stdout"
        }
      ]
    },
    {
      "cell_type": "markdown",
      "metadata": {
        "id": "1j2T38s6ZmC5"
      },
      "source": [
        "https://yukicoder.me/problems/134\n",
        "\n",
        "ハルカちゃんとユウちゃんはとっても仲良しなので、２人でポッキーゲームをすることにしました。\n",
        "\n",
        "長さが Lmmのポッキーを２人はそれぞれ両端から中央に向かって齧っていきます。\n",
        "２人とも毎回 Kmmずつ同じタイミングでポッキーを齧ります。\n",
        "ユウちゃんは恥ずかしがり屋さんなので、\n",
        "次のタイミングで２人ともポッキーを齧ろうとしたら唇が触れてしまうと分かった時点で齧り進めるのを止めて、\n",
        "残りは全部ハルカちゃんが食べてしまいます。\n",
        "\n",
        "このとき、ユウちゃんが食べるポッキーの長さは何mmか？"
      ]
    },
    {
      "cell_type": "code",
      "metadata": {
        "colab": {
          "base_uri": "https://localhost:8080/"
        },
        "id": "kK6pCKPEZltu",
        "outputId": "950d1e10-2e01-4801-dffd-767d40b85da9"
      },
      "source": [
        "inputLine = input()\n",
        "split_input = inputLine.split()\n",
        "L = int(split_input[0])\n",
        "K = int(split_input[1])\n",
        "print(K * (L // (K * 2)))"
      ],
      "execution_count": null,
      "outputs": [
        {
          "output_type": "stream",
          "text": [
            "90 20\n",
            "40\n"
          ],
          "name": "stdout"
        }
      ]
    },
    {
      "cell_type": "markdown",
      "metadata": {
        "id": "1PpjaHU5YLty"
      },
      "source": [
        "https://yukicoder.me/problems/19\n",
        "\n",
        "授業中にもかかわらず遊んでしまうdaveは、\n",
        "理科の実験中に、色んな重さの種類があるおもりをすべて使って、\n",
        "ちょうど天秤が水平になるおもりの組み合わせがあるかを知りたくなったようで、それに遊び呆けてる。\n",
        "（すべてのおもりを使うため、余らせてはいけない。）\n",
        "\n",
        "あなたは、daveにその組み合わせがあるかどうか教えて、授業に集中させるようにしてください。\n",
        "\n",
        "もしそのような組み合わせがあれば possible 、なければ impossible を出力してください。\n",
        "\n"
      ]
    },
    {
      "cell_type": "code",
      "metadata": {
        "colab": {
          "base_uri": "https://localhost:8080/"
        },
        "id": "sucTKLxSYWAc",
        "outputId": "095ddd1b-387c-45b7-bee8-8defa8163c07"
      },
      "source": [
        "first = input()\n",
        "split_input = first.split()\n",
        "N = int(split_input[0])\n",
        "list = []\n",
        "second = input()\n",
        "split_second = second.split()\n",
        "for i in range(N):\n",
        "  val = int(split_second[i])\n",
        "  list.append(val)\n",
        "print(list)"
      ],
      "execution_count": 4,
      "outputs": [
        {
          "output_type": "stream",
          "text": [
            "3\n",
            "1 2 3\n",
            "[1, 2, 3]\n"
          ],
          "name": "stdout"
        }
      ]
    }
  ]
}