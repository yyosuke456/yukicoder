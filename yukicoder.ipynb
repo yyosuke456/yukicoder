{
  "nbformat": 4,
  "nbformat_minor": 0,
  "metadata": {
    "colab": {
      "name": "yukicoder.ipynb",
      "provenance": [],
      "authorship_tag": "ABX9TyPh5cuhW1zC4NF1yPB5nxF3",
      "include_colab_link": true
    },
    "kernelspec": {
      "name": "python3",
      "display_name": "Python 3"
    },
    "language_info": {
      "name": "python"
    }
  },
  "cells": [
    {
      "cell_type": "markdown",
      "metadata": {
        "id": "view-in-github",
        "colab_type": "text"
      },
      "source": [
        "<a href=\"https://colab.research.google.com/github/yyosuke456/yukicoder/blob/master/yukicoder.ipynb\" target=\"_parent\"><img src=\"https://colab.research.google.com/assets/colab-badge.svg\" alt=\"Open In Colab\"/></a>"
      ]
    },
    {
      "cell_type": "code",
      "metadata": {
        "colab": {
          "base_uri": "https://localhost:8080/"
        },
        "id": "oSEy_1lSI695",
        "outputId": "bee0771f-9d56-4070-9f03-18203e1ab332"
      },
      "source": [
        "# 標準入力から一行分を読み出し、文字列として格納する。\n",
        "first = input()\n",
        "\n",
        "# 読み込んだ文字列をスペースで分割する\n",
        "split_first = first.split()\n",
        "\n",
        "# それぞれをint型に変換する\n",
        "A = int(split_first[0])\n",
        "B = int(split_first[1])\n",
        "\n",
        "# 慣れてくると この一行でよい\n",
        "# A, B = map(int, input().split()) \n",
        "\n",
        "# 参考: リストを読む際はlist()で覆ってやらないといけない\n",
        "# L = list(map(int, input().split()))\n",
        "\n",
        "#2行目を読み込む\n",
        "S = input()\n",
        "\n",
        "# 標準出力に書き出す。\n",
        "# カンマで区切るとスペースで分割してくれるので楽です。\n",
        "print(A + B, S)"
      ],
      "execution_count": null,
      "outputs": [
        {
          "output_type": "stream",
          "text": [
            "1 2\n",
            "2\n",
            "3 2\n"
          ],
          "name": "stdout"
        }
      ]
    },
    {
      "cell_type": "markdown",
      "metadata": {
        "id": "H47H4UZoX6Wb"
      },
      "source": [
        "1歩でぴったりaセンチメートル歩ける。\n",
        "bセンチメートルの区間を歩くのに最小で何歩歩く？\n",
        "なお、区間はオーバーしても良い。\n",
        "https://yukicoder.me/problems/43"
      ]
    },
    {
      "cell_type": "code",
      "metadata": {
        "id": "FK2TICDmLD8C",
        "colab": {
          "base_uri": "https://localhost:8080/"
        },
        "outputId": "5aa0b3e3-aecf-4426-b1cc-11d9a45d49fa"
      },
      "source": [
        "first = input()\n",
        "split_first = first.split()\n",
        "a = int(split_first[0])\n",
        "b = int(split_first[1])\n",
        "steps = -(-b // a) #剰余を切り上げ\n",
        "print(steps)"
      ],
      "execution_count": null,
      "outputs": [
        {
          "output_type": "stream",
          "text": [
            "10 100\n",
            "10\n"
          ],
          "name": "stdout"
        }
      ]
    },
    {
      "cell_type": "markdown",
      "metadata": {
        "id": "o7DmU1ikdNQk"
      },
      "source": [
        "ステア君は階段を上るのが大好きです。今日も近所にあるお寺のお気に入りの階段を上っています。\n",
        " 段目に上がったとき、ふとステア君は自分の家でいうと何階に相当する高さに居るのかが気になりました。\n",
        "ステア君の家の一階層分に相当する段数  が与えられるので、ステア君が今何階にいるのか計算して下さい。\n",
        "https://yukicoder.me/problems/no/388"
      ]
    },
    {
      "cell_type": "code",
      "metadata": {
        "colab": {
          "base_uri": "https://localhost:8080/"
        },
        "id": "FiRSsVk0dMjI",
        "outputId": "fc58e7a1-3bcb-4378-f794-89a77bac497a"
      },
      "source": [
        "first = input()\n",
        "split_first = first.split()\n",
        "s = int(split_first[0])\n",
        "f = int(split_first[1])\n",
        "print(s // f + 1)"
      ],
      "execution_count": null,
      "outputs": [
        {
          "output_type": "stream",
          "text": [
            "39 10\n",
            "4\n"
          ],
          "name": "stdout"
        }
      ]
    },
    {
      "cell_type": "markdown",
      "metadata": {
        "id": "dsAIMlsaPtsz"
      },
      "source": [
        "https://yukicoder.me/problems/699\n",
        "\n",
        "自分と相手がじゃんけんをする。\n",
        "じゃんけんの結果を標準出力に出力してください。\n",
        "結果は、自分が勝ったら「Won」、自分が負けたら「Lost」、引き分けなら「Drew」を出力してください。\n",
        "ぐー, ちょき, ぱーをそれぞれ 0, 1, 2とし、１つ目に自分のが２つ目に相手のが与えられます。\n"
      ]
    },
    {
      "cell_type": "code",
      "metadata": {
        "colab": {
          "base_uri": "https://localhost:8080/"
        },
        "id": "CTZtMKTPPtbl",
        "outputId": "a9952829-7975-4bec-cfe0-77c46129249e"
      },
      "source": [
        "first = input()\n",
        "split_first = first.split()\n",
        "me = int(split_first[0])\n",
        "you = int(split_first[1])\n",
        "if me == you:\n",
        "  print(\"Drew\")\n",
        "elif me == 0:\n",
        "  if you == 1:\n",
        "    print(\"Won\")\n",
        "  else:\n",
        "    print(\"Lost\")\n",
        "elif me == 1:\n",
        "  if you == 2:\n",
        "    print(\"Won\")\n",
        "  else:\n",
        "    print(\"Lost\")\n",
        "else:\n",
        "  if you == 1:\n",
        "    print(\"Won\")\n",
        "  else:\n",
        "    print(\"Lost\")"
      ],
      "execution_count": null,
      "outputs": [
        {
          "output_type": "stream",
          "text": [
            "2 1\n",
            "Won\n"
          ],
          "name": "stdout"
        }
      ]
    },
    {
      "cell_type": "markdown",
      "metadata": {
        "id": "nzyyOR8ExYpF"
      },
      "source": [
        "https://yukicoder.me/problems/560\n",
        "\n",
        "A以上B以下の整数のうち、3の倍数および3の付く数を、小さい順に出力してください。\n",
        "\n",
        "なお、「3の付く数」とは、10進数表記にした時、少なくとも1つの桁が3であるような数のことです。\n",
        "\n",
        "入力\n",
        "A B\n",
        "入力はすべて整数で与えられる。\n"
      ]
    },
    {
      "cell_type": "code",
      "metadata": {
        "colab": {
          "base_uri": "https://localhost:8080/",
          "height": 219
        },
        "id": "NJBlYYxfxhzQ",
        "outputId": "702aec47-fa8b-4518-f57d-373af7aeb538"
      },
      "source": [
        "first = input()\n",
        "split_first = first.split()\n",
        "a = int(split_first[0])\n",
        "b = int(split_first[1])\n",
        "print(list(range(1, 10)))\n"
      ],
      "execution_count": null,
      "outputs": [
        {
          "output_type": "stream",
          "text": [
            "1 1\n"
          ],
          "name": "stdout"
        },
        {
          "output_type": "error",
          "ename": "TypeError",
          "evalue": "ignored",
          "traceback": [
            "\u001b[0;31m---------------------------------------------------------------------------\u001b[0m",
            "\u001b[0;31mTypeError\u001b[0m                                 Traceback (most recent call last)",
            "\u001b[0;32m<ipython-input-7-b55781dbd5c0>\u001b[0m in \u001b[0;36m<module>\u001b[0;34m()\u001b[0m\n\u001b[1;32m      3\u001b[0m \u001b[0ma\u001b[0m \u001b[0;34m=\u001b[0m \u001b[0mint\u001b[0m\u001b[0;34m(\u001b[0m\u001b[0msplit_first\u001b[0m\u001b[0;34m[\u001b[0m\u001b[0;36m0\u001b[0m\u001b[0;34m]\u001b[0m\u001b[0;34m)\u001b[0m\u001b[0;34m\u001b[0m\u001b[0;34m\u001b[0m\u001b[0m\n\u001b[1;32m      4\u001b[0m \u001b[0mb\u001b[0m \u001b[0;34m=\u001b[0m \u001b[0mint\u001b[0m\u001b[0;34m(\u001b[0m\u001b[0msplit_first\u001b[0m\u001b[0;34m[\u001b[0m\u001b[0;36m1\u001b[0m\u001b[0;34m]\u001b[0m\u001b[0;34m)\u001b[0m\u001b[0;34m\u001b[0m\u001b[0;34m\u001b[0m\u001b[0m\n\u001b[0;32m----> 5\u001b[0;31m \u001b[0mprint\u001b[0m\u001b[0;34m(\u001b[0m\u001b[0mlist\u001b[0m\u001b[0;34m(\u001b[0m\u001b[0mrange\u001b[0m\u001b[0;34m(\u001b[0m\u001b[0;36m1\u001b[0m\u001b[0;34m,\u001b[0m \u001b[0;36m10\u001b[0m\u001b[0;34m)\u001b[0m\u001b[0;34m)\u001b[0m\u001b[0;34m)\u001b[0m\u001b[0;34m\u001b[0m\u001b[0;34m\u001b[0m\u001b[0m\n\u001b[0m",
            "\u001b[0;31mTypeError\u001b[0m: 'range' object is not callable"
          ]
        }
      ]
    },
    {
      "cell_type": "code",
      "metadata": {
        "id": "-dZmor7keg_U",
        "colab": {
          "base_uri": "https://localhost:8080/",
          "height": 185
        },
        "outputId": "f78e5098-58e1-43b6-b571-9dde32efd814"
      },
      "source": [
        ""
      ],
      "execution_count": null,
      "outputs": [
        {
          "output_type": "error",
          "ename": "TypeError",
          "evalue": "ignored",
          "traceback": [
            "\u001b[0;31m---------------------------------------------------------------------------\u001b[0m",
            "\u001b[0;31mTypeError\u001b[0m                                 Traceback (most recent call last)",
            "\u001b[0;32m<ipython-input-8-b3f4884b3e97>\u001b[0m in \u001b[0;36m<module>\u001b[0;34m()\u001b[0m\n\u001b[0;32m----> 1\u001b[0;31m \u001b[0mmylist\u001b[0m \u001b[0;34m=\u001b[0m \u001b[0mlist\u001b[0m\u001b[0;34m(\u001b[0m\u001b[0mrange\u001b[0m\u001b[0;34m(\u001b[0m\u001b[0;36m10\u001b[0m\u001b[0;34m)\u001b[0m\u001b[0;34m)\u001b[0m\u001b[0;34m\u001b[0m\u001b[0;34m\u001b[0m\u001b[0m\n\u001b[0m\u001b[1;32m      2\u001b[0m \u001b[0mprint\u001b[0m\u001b[0;34m(\u001b[0m\u001b[0mmylist\u001b[0m\u001b[0;34m)\u001b[0m\u001b[0;34m\u001b[0m\u001b[0;34m\u001b[0m\u001b[0m\n",
            "\u001b[0;31mTypeError\u001b[0m: 'range' object is not callable"
          ]
        }
      ]
    }
  ]
}